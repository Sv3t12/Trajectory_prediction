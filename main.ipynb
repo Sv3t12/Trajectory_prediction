{
  "nbformat": 4,
  "nbformat_minor": 0,
  "metadata": {
    "colab": {
      "provenance": [],
      "authorship_tag": "ABX9TyPjw8QjK0w3fAPg2GH37Tqu",
      "include_colab_link": true
    },
    "kernelspec": {
      "name": "python3",
      "display_name": "Python 3"
    },
    "language_info": {
      "name": "python"
    }
  },
  "cells": [
    {
      "cell_type": "markdown",
      "metadata": {
        "id": "view-in-github",
        "colab_type": "text"
      },
      "source": [
        "<a href=\"https://colab.research.google.com/github/Sv3t12/Trajectory_prediction/blob/main/main.ipynb\" target=\"_parent\"><img src=\"https://colab.research.google.com/assets/colab-badge.svg\" alt=\"Open In Colab\"/></a>"
      ]
    },
    {
      "cell_type": "code",
      "source": [
        "!pip install catboost"
      ],
      "metadata": {
        "collapsed": true,
        "id": "LuQBwAmdM9-r"
      },
      "execution_count": null,
      "outputs": []
    },
    {
      "cell_type": "code",
      "execution_count": 5,
      "metadata": {
        "id": "QsOoPFv3yvYm"
      },
      "outputs": [],
      "source": [
        "import numpy as np\n",
        "import pandas as pd\n",
        "import matplotlib.pyplot as plt\n",
        "from catboost import CatBoostRegressor"
      ]
    },
    {
      "cell_type": "code",
      "source": [
        "#Все значения принимаются и выводятся в СИ"
      ],
      "metadata": {
        "id": "fqL8GrvgGmpl"
      },
      "execution_count": 6,
      "outputs": []
    },
    {
      "cell_type": "markdown",
      "source": [
        "# Функция physics_model"
      ],
      "metadata": {
        "id": "vOEjs7yvbBVG"
      }
    },
    {
      "cell_type": "markdown",
      "source": [
        "1. Проекция скорости тела на ось X:\n",
        "$$\n",
        "{v_x} = {v_0}*{cos (\\alpha)}\n",
        "$$\n",
        "\n",
        "\n",
        "2. Проекция скорости тела на ось Y:\n",
        "$$\n",
        "{v_y} = {v_0}*{sin (\\alpha)}\n",
        "$$\n",
        "\n",
        "\n",
        "3. Общий вектор скорости:\n",
        "$$\n",
        "{v} = \\sqrt{v_x^2 * v_y^2}\n",
        "$$\n",
        "\n",
        "\n",
        "4. Сила лобового сопротивления:\n",
        "$$\n",
        "{F_D} = \\frac{1}{2}{\\rho}{v^2}{C_D}{A}\n",
        "$$\n",
        "\n",
        "\n",
        "5. Ускорение по оси X:\n",
        "$$\n",
        "{a_x} = -\\frac{F_D}{m} * \\frac{v_x}{v}\n",
        "$$\n",
        "\n",
        "\n",
        "6. Ускорение по оси Y:\n",
        "$$\n",
        "{a_y} = -{g}-\\frac{F_D}{m} * \\frac{v_y}{v}\n",
        "$$\n",
        "\n",
        "\n",
        "7. Изменение проекции скорости на ось X за промежуток  ∆t:\n",
        "$$\n",
        "{v_x} ← {v_x} + {a_x* \\Delta t}\n",
        "$$\n",
        "\n",
        "\n",
        "8. Изменение проекции скорости на ось Y за промежуток  ∆t:\n",
        "$$\n",
        "{v_y} ← {v_y} + {a_y* \\Delta t}\n",
        "$$\n",
        "\n",
        "\n",
        "9. Изменение координаты на ось X за промежуток  ∆t:\n",
        "$$\n",
        "{x} ← {x} + {v_x* \\Delta t}\n",
        "$$\n",
        "\n",
        "\n",
        "10. Изменение координаты на ось Y за промежуток  ∆t:\n",
        "$$\n",
        "{y} ← {y} + {v_y* \\Delta t}\n",
        "$$"
      ],
      "metadata": {
        "id": "DdGbQxoKt8Wh"
      }
    },
    {
      "cell_type": "code",
      "source": [
        "def physics_model(v0, angle, C_d, mass, A=0.01, dt=0.0001):\n",
        "  '''\n",
        "  physics_model(v0[m/s], angle[degree], C_d, mass[kg], A=0.01, dt=0.01[s])\n",
        "  Функция physics_model получает значения v0(начальной скорости),\n",
        "  angle(угла наклона), C_d(коэф сопротивления), mass(массы).\n",
        "  С помощью уравнений Эйлера находит траекторию полета объекта.\n",
        "  Возвращает массив trajectory с координатами x,y.\n",
        "  '''\n",
        "  import numpy as np\n",
        "  angle_rad = np.radians(angle)\n",
        "  g = 9.80665 #Ускорение свободного падения [m/s**2]\n",
        "  rho = 1.225 #Плотность воздуха [kg/m**3]\n",
        "  vx = v0 * np.cos(angle_rad) #Проекция скорости тела на ось X\n",
        "  vy = v0 * np.sin(angle_rad) #Проекция скорости тела на ось Y\n",
        "  x, y = 0, 0 #Координата тела по оси X и Y\n",
        "  trajectory = [[0,0]]\n",
        "  while y >= 0:\n",
        "      v = np.sqrt(vx**2 + vy**2) #Общий вектор скорости\n",
        "      F_drag = 0.5 * rho * C_d * A * v**2 #Сила лобового сопротивления\n",
        "      ax = -(F_drag / mass) * (vx / v) #Ускорение по оси X\n",
        "      ay = -g - (F_drag / mass) * (vy / v) #Ускорение по оси Y\n",
        "      #Изменение скорости за промежуток dt\n",
        "      vx += ax * dt\n",
        "      vy += ay * dt\n",
        "      #Изменение координаты за промежуток dt\n",
        "      if (vy * dt + y) >= 0:\n",
        "        x += vx * dt\n",
        "        y += vy * dt\n",
        "      else:\n",
        "        y = 0\n",
        "        break\n",
        "      trajectory.append([x, y])\n",
        "  return np.array(trajectory)"
      ],
      "metadata": {
        "id": "wyGpHhMPzU2_"
      },
      "execution_count": 7,
      "outputs": []
    },
    {
      "cell_type": "markdown",
      "source": [
        "#  Функция hybrid_predict"
      ],
      "metadata": {
        "id": "sqhD66enbMvR"
      }
    },
    {
      "cell_type": "code",
      "source": [
        "def hybrid_predict(v0, angle, mass, C_d, wind):\n",
        "  \"\"\"\n",
        "  hybrid_predict(v0[m/s], angle[degree], mass[kg], C_d, wind[m/s])\n",
        "  Функция получает значения v0(начальной скорости),\n",
        "  angle(угла наклона), C_d(коэф сопротивления), mass(массы),\n",
        "  wind(ветра).\n",
        "  Находит ошибку в дальности полета согласно модели и корректирует\n",
        "  Возвращает скорректированную дальность полета x_hybrid,\n",
        "  траекторию физ. модели physics_traj\n",
        "  \"\"\"\n",
        "  physics_traj = physics_model(v0, angle, C_d, mass)\n",
        "  x_physics = physics_traj[-1, 0] #Конечная точка полета\n",
        "\n",
        "  input_features = [[v0, angle, mass, C_d, wind, x_physics]]\n",
        "  error = model.predict(input_features)[0]\n",
        "\n",
        "  x_hybrid = x_physics + error #Создание гибридной конечной точки\n",
        "  return x_hybrid, physics_traj"
      ],
      "metadata": {
        "id": "_S4s8HwbzX0I"
      },
      "execution_count": 8,
      "outputs": []
    },
    {
      "cell_type": "markdown",
      "source": [
        "# Работа с моделью обучения"
      ],
      "metadata": {
        "id": "AAOcfq_kcGbI"
      }
    },
    {
      "cell_type": "markdown",
      "source": [
        "Таблица ballistic_dataset, указанная в репозитории содержит следующие признаки для 5000 случаев:\n",
        "\n",
        "\n",
        "* `v0` - начальное значение скорости(м/с)\n",
        "* `angle` - угол наклона тела(°)\n",
        "* `C_d` - коэффицент сопротивления формы\n",
        "* `mass` - масса тела(кг)\n",
        "* `wind` - скорость ветра(м/с)\n",
        "* `x_physics` - конечная точка полета согласно расчетам(м)\n",
        "* `x_real` - реальная точка полета согласно измерениям(м)\n",
        "\n"
      ],
      "metadata": {
        "id": "ik4hisX_creU"
      }
    },
    {
      "cell_type": "code",
      "source": [
        "#Обрабатывание датасета\n",
        "df = pd.read_csv('ballistic_dataset.csv')\n",
        "df['error'] = df['x_real'] - df['x_physics']\n",
        "X = df[['v0', 'angle', 'C_d', 'mass', 'wind', 'x_physics']]\n",
        "Y = df['error']"
      ],
      "metadata": {
        "id": "brEQI-gAzZUc"
      },
      "execution_count": 9,
      "outputs": []
    },
    {
      "cell_type": "code",
      "source": [
        "#Обучение модели\n",
        "model = CatBoostRegressor(iterations=500, learning_rate=0.05, verbose=100)\n",
        "model.fit(X, Y)"
      ],
      "metadata": {
        "id": "ynz7C3TQzbIx"
      },
      "execution_count": null,
      "outputs": []
    },
    {
      "cell_type": "markdown",
      "source": [
        "# Создание рассчета по данным"
      ],
      "metadata": {
        "id": "9ZYoX0Lwrlby"
      }
    },
    {
      "cell_type": "code",
      "source": [
        "#Демо данные для теста\n",
        "v0=10\n",
        "angle=45\n",
        "mass=1.0\n",
        "C_d=0.5\n",
        "wind=5.0"
      ],
      "metadata": {
        "id": "XvR47GJBooS7"
      },
      "execution_count": 20,
      "outputs": []
    },
    {
      "cell_type": "code",
      "source": [
        "#Ввод собственных данных\n",
        "v0 = float(input('Введите начальную скорость(м/с): '))\n",
        "angle = float(input('Угол наклона(°): '))\n",
        "mass = float(input('Масса тела(кг): '))\n",
        "C_d = float(input('Коэф. сопротивления: '))\n",
        "wind = float(input('Скорость ветра(м/с): '))"
      ],
      "metadata": {
        "colab": {
          "base_uri": "https://localhost:8080/"
        },
        "id": "_H9G8AGeqOYG",
        "outputId": "cd642e4e-4dd0-4a36-d52c-aa18d3844c88"
      },
      "execution_count": 16,
      "outputs": [
        {
          "name": "stdout",
          "output_type": "stream",
          "text": [
            "Введите начальную скорость(м/с): 5\n",
            "Угол наклона(°): 120\n",
            "Масса тела(кг): 2\n",
            "Коэф. сопротивления: 0.5\n",
            "Скорость ветра(м/с): 1\n"
          ]
        }
      ]
    },
    {
      "cell_type": "code",
      "source": [
        "#Получение искомых значений\n",
        "x_hybrid, physics_traj = hybrid_predict \\\n",
        " (v0, angle, mass, C_d, wind)"
      ],
      "metadata": {
        "id": "cVhXwQLgzbYE"
      },
      "execution_count": 21,
      "outputs": []
    },
    {
      "cell_type": "markdown",
      "source": [
        "# График полета"
      ],
      "metadata": {
        "id": "gZ2emevibWzd"
      }
    },
    {
      "cell_type": "code",
      "source": [
        "#Создание графика полета\n",
        "plt.plot(physics_traj[:, 0], physics_traj[:, 1], label='Траектория')\n",
        "plt.scatter(0, 0, label='Начальная точка')\n",
        "plt.scatter(x_hybrid, 0, label='Предсказанное значение')\n",
        "plt.grid()\n",
        "plt.legend()"
      ],
      "metadata": {
        "colab": {
          "base_uri": "https://localhost:8080/",
          "height": 448
        },
        "id": "uzBGI03ZzgbF",
        "outputId": "2b3e945d-3dad-42f0-81e3-c88c687b5f6a"
      },
      "execution_count": 22,
      "outputs": [
        {
          "output_type": "execute_result",
          "data": {
            "text/plain": [
              "<matplotlib.legend.Legend at 0x7aa101b16010>"
            ]
          },
          "metadata": {},
          "execution_count": 22
        },
        {
          "output_type": "display_data",
          "data": {
            "text/plain": [
              "<Figure size 640x480 with 1 Axes>"
            ],
            "image/png": "[encoded data removed]"
          },
          "metadata": {}
        }
      ]
    }
  ]
}