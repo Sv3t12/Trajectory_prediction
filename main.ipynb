{
  "nbformat": 4,
  "nbformat_minor": 0,
  "metadata": {
    "colab": {
      "provenance": []
    },
    "kernelspec": {
      "name": "python3",
      "display_name": "Python 3"
    },
    "language_info": {
      "name": "python"
    }
  },
  "cells": [
    {
      "cell_type": "code",
      "source": [
        "!pip install catboost"
      ],
      "metadata": {
        "colab": {
          "base_uri": "https://localhost:8080/"
        },
        "collapsed": true,
        "id": "LuQBwAmdM9-r",
        "outputId": "3eac9302-598b-46e5-eb9e-d94dd8729905"
      },
      "execution_count": 9,
      "outputs": [
        {
          "output_type": "stream",
          "name": "stdout",
          "text": [
            "Requirement already satisfied: catboost in /usr/local/lib/python3.11/dist-packages (1.2.8)\n",
            "Requirement already satisfied: graphviz in /usr/local/lib/python3.11/dist-packages (from catboost) (0.20.3)\n",
            "Requirement already satisfied: matplotlib in /usr/local/lib/python3.11/dist-packages (from catboost) (3.10.0)\n",
            "Requirement already satisfied: numpy<3.0,>=1.16.0 in /usr/local/lib/python3.11/dist-packages (from catboost) (2.0.2)\n",
            "Requirement already satisfied: pandas>=0.24 in /usr/local/lib/python3.11/dist-packages (from catboost) (2.2.2)\n",
            "Requirement already satisfied: scipy in /usr/local/lib/python3.11/dist-packages (from catboost) (1.15.2)\n",
            "Requirement already satisfied: plotly in /usr/local/lib/python3.11/dist-packages (from catboost) (5.24.1)\n",
            "Requirement already satisfied: six in /usr/local/lib/python3.11/dist-packages (from catboost) (1.17.0)\n",
            "Requirement already satisfied: python-dateutil>=2.8.2 in /usr/local/lib/python3.11/dist-packages (from pandas>=0.24->catboost) (2.9.0.post0)\n",
            "Requirement already satisfied: pytz>=2020.1 in /usr/local/lib/python3.11/dist-packages (from pandas>=0.24->catboost) (2025.2)\n",
            "Requirement already satisfied: tzdata>=2022.7 in /usr/local/lib/python3.11/dist-packages (from pandas>=0.24->catboost) (2025.2)\n",
            "Requirement already satisfied: contourpy>=1.0.1 in /usr/local/lib/python3.11/dist-packages (from matplotlib->catboost) (1.3.2)\n",
            "Requirement already satisfied: cycler>=0.10 in /usr/local/lib/python3.11/dist-packages (from matplotlib->catboost) (0.12.1)\n",
            "Requirement already satisfied: fonttools>=4.22.0 in /usr/local/lib/python3.11/dist-packages (from matplotlib->catboost) (4.57.0)\n",
            "Requirement already satisfied: kiwisolver>=1.3.1 in /usr/local/lib/python3.11/dist-packages (from matplotlib->catboost) (1.4.8)\n",
            "Requirement already satisfied: packaging>=20.0 in /usr/local/lib/python3.11/dist-packages (from matplotlib->catboost) (24.2)\n",
            "Requirement already satisfied: pillow>=8 in /usr/local/lib/python3.11/dist-packages (from matplotlib->catboost) (11.2.1)\n",
            "Requirement already satisfied: pyparsing>=2.3.1 in /usr/local/lib/python3.11/dist-packages (from matplotlib->catboost) (3.2.3)\n",
            "Requirement already satisfied: tenacity>=6.2.0 in /usr/local/lib/python3.11/dist-packages (from plotly->catboost) (9.1.2)\n"
          ]
        }
      ]
    },
    {
      "cell_type": "code",
      "execution_count": 10,
      "metadata": {
        "id": "QsOoPFv3yvYm"
      },
      "outputs": [],
      "source": [
        "import numpy as np\n",
        "import pandas as pd\n",
        "import matplotlib.pyplot as plt\n",
        "from catboost import CatBoostRegressor"
      ]
    },
    {
      "cell_type": "code",
      "source": [
        "#Все значения принимаются и выводятся в СИ"
      ],
      "metadata": {
        "id": "fqL8GrvgGmpl"
      },
      "execution_count": 11,
      "outputs": []
    },
    {
      "cell_type": "code",
      "source": [
        "def physics_model(v0, angle, C_d, mass, A=0.01, dt=0.01):\n",
        "  '''\n",
        "  physics_model(v0[m/s], angle[degree], C_d, mass[kg], A=0.01, dt=0.01[s])\n",
        "  Функция physics_model получает значения v0(начальной скорости),\n",
        "  angle(угла наклона), C_d(коэф сопротивления), mass(массы).\n",
        "  С помощью уравнений Эйлера находит траекторию полета объекта.\n",
        "  Возвращает массив trajectory с координатами x,y.\n",
        "  '''\n",
        "  import numpy as np\n",
        "  angle_rad = np.radians(angle)\n",
        "  g = 9.80665 #Ускорение свободного падения [m/s**2]\n",
        "  rho = 1.225 #Плотность воздуха [kg/m**3]\n",
        "  vx = v0 * np.cos(angle_rad) #Проекция скорости тела на ось X\n",
        "  vy = v0 * np.sin(angle_rad) #Проекция скорости тела на ось Y\n",
        "  x, y = 0, 0 #Координата тела по оси X и Y\n",
        "  trajectory = [[0,0]]\n",
        "  while y >= 0:\n",
        "      v = np.sqrt(vx**2 + vy**2) #Общий вектор скорости\n",
        "      F_drag = 0.5 * rho * C_d * A * v**2 #Сила лобового сопротивления\n",
        "      ax = -(F_drag / mass) * (vx / v) #Ускорение по оси X\n",
        "      ay = -g - (F_drag / mass) * (vy / v) #Ускорение по оси Y\n",
        "      #Изменение скорости за промежуток dt\n",
        "      vx += ax * dt\n",
        "      vy += ay * dt\n",
        "      #Изменение координаты за промежуток dt\n",
        "      if (vy * dt + y) >= 0:\n",
        "        x += vx * dt\n",
        "        y += vy * dt\n",
        "      else:\n",
        "        y = 0\n",
        "        break\n",
        "      trajectory.append([x, y])\n",
        "  return np.array(trajectory)"
      ],
      "metadata": {
        "id": "wyGpHhMPzU2_"
      },
      "execution_count": 38,
      "outputs": []
    },
    {
      "cell_type": "code",
      "source": [
        "def hybrid_predict(v0, angle, mass, C_d, wind):\n",
        "  \"\"\"\n",
        "  hybrid_predict(v0[m/s], angle[degree], mass[kg], C_d, wind[m/s])\n",
        "  Функция получает значения v0(начальной скорости),\n",
        "  angle(угла наклона), C_d(коэф сопротивления), mass(массы),\n",
        "  wind(ветра).\n",
        "  Находит ошибку в дальности полета согласно модели и корректирует\n",
        "  Возвращает скорректированную дальность полета x_hybrid,\n",
        "  траекторию физ. модели physics_traj\n",
        "  \"\"\"\n",
        "  physics_traj = physics_model(v0, angle, C_d, mass)\n",
        "  x_physics = physics_traj[-1, 0] #Конечная точка полета\n",
        "\n",
        "  input_features = [[v0, angle, mass, C_d, wind, x_physics]]\n",
        "  error = model.predict(input_features)[0]\n",
        "\n",
        "  x_hybrid = x_physics + error #Создание гибридной конечной точки\n",
        "  return x_hybrid, physics_traj"
      ],
      "metadata": {
        "id": "_S4s8HwbzX0I"
      },
      "execution_count": 13,
      "outputs": []
    },
    {
      "cell_type": "code",
      "source": [
        "#Обрабатывание датасета\n",
        "df = pd.read_csv('ballistic_dataset.csv')\n",
        "df['error'] = df['x_real'] - df['x_physics']\n",
        "X = df[['v0', 'angle', 'C_d', 'mass', 'wind', 'x_physics']]\n",
        "Y = df['error']"
      ],
      "metadata": {
        "id": "brEQI-gAzZUc"
      },
      "execution_count": 14,
      "outputs": []
    },
    {
      "cell_type": "code",
      "source": [
        "#Обучение модели\n",
        "model = CatBoostRegressor(iterations=500, learning_rate=0.05, verbose=100)\n",
        "model.fit(X, Y)"
      ],
      "metadata": {
        "colab": {
          "base_uri": "https://localhost:8080/"
        },
        "id": "ynz7C3TQzbIx",
        "outputId": "57eb4898-1a06-40fa-efc5-28c9e204543f"
      },
      "execution_count": 15,
      "outputs": [
        {
          "output_type": "stream",
          "name": "stdout",
          "text": [
            "0:\tlearn: 1.6665324\ttotal: 50ms\tremaining: 24.9s\n",
            "100:\tlearn: 0.3297536\ttotal: 445ms\tremaining: 1.76s\n",
            "200:\tlearn: 0.2242825\ttotal: 946ms\tremaining: 1.41s\n",
            "300:\tlearn: 0.1789777\ttotal: 1.45s\tremaining: 961ms\n",
            "400:\tlearn: 0.1531173\ttotal: 2.29s\tremaining: 566ms\n",
            "499:\tlearn: 0.1354865\ttotal: 2.93s\tremaining: 0us\n"
          ]
        },
        {
          "output_type": "execute_result",
          "data": {
            "text/plain": [
              "<catboost.core.CatBoostRegressor at 0x7b1588fd0790>"
            ]
          },
          "metadata": {},
          "execution_count": 15
        }
      ]
    },
    {
      "cell_type": "code",
      "source": [
        "#Получение искомых значений\n",
        "x_hybrid, physics_traj = hybrid_predict \\\n",
        " (v0=5, angle=45, mass=10.0, C_d=0.2, wind=1.0)"
      ],
      "metadata": {
        "id": "cVhXwQLgzbYE"
      },
      "execution_count": 43,
      "outputs": []
    },
    {
      "cell_type": "code",
      "source": [
        "physics_traj[0]"
      ],
      "metadata": {
        "colab": {
          "base_uri": "https://localhost:8080/"
        },
        "id": "S44NPRgDSoD4",
        "outputId": "4b4f351f-b526-4bfd-d448-0d93f803517f"
      },
      "execution_count": 32,
      "outputs": [
        {
          "output_type": "execute_result",
          "data": {
            "text/plain": [
              "array([0.03535317, 0.03437251])"
            ]
          },
          "metadata": {},
          "execution_count": 32
        }
      ]
    },
    {
      "cell_type": "code",
      "source": [
        "#Создание графика полета\n",
        "plt.plot(physics_traj[:, 0], physics_traj[:, 1], label='Траектория')\n",
        "plt.scatter(x_hybrid, 0, label='Предсказанное значение')\n",
        "plt.grid()\n",
        "plt.legend()"
      ],
      "metadata": {
        "colab": {
          "base_uri": "https://localhost:8080/",
          "height": 448
        },
        "id": "uzBGI03ZzgbF",
        "outputId": "baa78da0-3a62-49f9-9cc1-f8ee6fcdd934"
      },
      "execution_count": 47,
      "outputs": [
        {
          "output_type": "execute_result",
          "data": {
            "text/plain": [
              "<matplotlib.legend.Legend at 0x7b1585d51850>"
            ]
          },
          "metadata": {},
          "execution_count": 47
        },
        {
          "output_type": "display_data",
          "data": {
            "text/plain": [
              "<Figure size 640x480 with 1 Axes>"
            ],
            "image/png": "[encoded data removed]"
          },
          "metadata": {}
        }
      ]
    }
  ]
}